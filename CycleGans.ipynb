{
 "cells": [
  {
   "cell_type": "code",
   "execution_count": 1,
   "metadata": {
    "colab": {
     "base_uri": "https://localhost:8080/"
    },
    "id": "9FdOofCM_jtG",
    "outputId": "a8e542ba-f719-4141-8c59-034d717e1518"
   },
   "outputs": [],
   "source": [
    "#from google.colab import drive\n",
    "#drive.mount('/content/drive')\n",
    "# TODO: this might be wrong\n",
    "#dir = '/content/drive/MyDrive/Datasets/' #dir on colab \n",
    "dir = './' "
   ]
  },
  {
   "cell_type": "code",
   "execution_count": 2,
   "metadata": {
    "colab": {
     "base_uri": "https://localhost:8080/"
    },
    "id": "S86iZTcKbTa3",
    "outputId": "5a23890d-57ee-438a-a23e-3b0780cbffbf"
   },
   "outputs": [
    {
     "name": "stdout",
     "output_type": "stream",
     "text": [
      "Requirement already satisfied: albumentations==0.4.6 in /home/thomas/anaconda3/envs/dataMine/lib/python3.9/site-packages (0.4.6)\n",
      "Requirement already satisfied: imgaug>=0.4.0 in /home/thomas/anaconda3/envs/dataMine/lib/python3.9/site-packages (from albumentations==0.4.6) (0.4.0)\n",
      "Requirement already satisfied: opencv-python-headless>=4.1.1 in /home/thomas/anaconda3/envs/dataMine/lib/python3.9/site-packages (from albumentations==0.4.6) (4.5.5.64)\n",
      "Requirement already satisfied: scipy in /home/thomas/anaconda3/envs/dataMine/lib/python3.9/site-packages (from albumentations==0.4.6) (1.8.0)\n",
      "Requirement already satisfied: numpy>=1.11.1 in /home/thomas/anaconda3/envs/dataMine/lib/python3.9/site-packages (from albumentations==0.4.6) (1.22.3)\n",
      "Requirement already satisfied: PyYAML in /home/thomas/anaconda3/envs/dataMine/lib/python3.9/site-packages (from albumentations==0.4.6) (6.0)\n",
      "Requirement already satisfied: Shapely in /home/thomas/anaconda3/envs/dataMine/lib/python3.9/site-packages (from imgaug>=0.4.0->albumentations==0.4.6) (1.8.1.post1)\n",
      "Requirement already satisfied: imageio in /home/thomas/anaconda3/envs/dataMine/lib/python3.9/site-packages (from imgaug>=0.4.0->albumentations==0.4.6) (2.17.0)\n",
      "Requirement already satisfied: opencv-python in /home/thomas/anaconda3/envs/dataMine/lib/python3.9/site-packages (from imgaug>=0.4.0->albumentations==0.4.6) (4.5.5.64)\n",
      "Requirement already satisfied: Pillow in /home/thomas/anaconda3/envs/dataMine/lib/python3.9/site-packages (from imgaug>=0.4.0->albumentations==0.4.6) (9.1.0)\n",
      "Requirement already satisfied: scikit-image>=0.14.2 in /home/thomas/anaconda3/envs/dataMine/lib/python3.9/site-packages (from imgaug>=0.4.0->albumentations==0.4.6) (0.19.2)\n",
      "Requirement already satisfied: matplotlib in /home/thomas/anaconda3/envs/dataMine/lib/python3.9/site-packages (from imgaug>=0.4.0->albumentations==0.4.6) (3.5.1)\n",
      "Requirement already satisfied: six in /home/thomas/anaconda3/envs/dataMine/lib/python3.9/site-packages (from imgaug>=0.4.0->albumentations==0.4.6) (1.16.0)\n",
      "Requirement already satisfied: networkx>=2.2 in /home/thomas/anaconda3/envs/dataMine/lib/python3.9/site-packages (from scikit-image>=0.14.2->imgaug>=0.4.0->albumentations==0.4.6) (2.8)\n",
      "Requirement already satisfied: PyWavelets>=1.1.1 in /home/thomas/anaconda3/envs/dataMine/lib/python3.9/site-packages (from scikit-image>=0.14.2->imgaug>=0.4.0->albumentations==0.4.6) (1.3.0)\n",
      "Requirement already satisfied: packaging>=20.0 in /home/thomas/anaconda3/envs/dataMine/lib/python3.9/site-packages (from scikit-image>=0.14.2->imgaug>=0.4.0->albumentations==0.4.6) (21.3)\n",
      "Requirement already satisfied: tifffile>=2019.7.26 in /home/thomas/anaconda3/envs/dataMine/lib/python3.9/site-packages (from scikit-image>=0.14.2->imgaug>=0.4.0->albumentations==0.4.6) (2022.4.8)\n",
      "Requirement already satisfied: pyparsing!=3.0.5,>=2.0.2 in /home/thomas/anaconda3/envs/dataMine/lib/python3.9/site-packages (from packaging>=20.0->scikit-image>=0.14.2->imgaug>=0.4.0->albumentations==0.4.6) (3.0.4)\n",
      "Requirement already satisfied: cycler>=0.10 in /home/thomas/anaconda3/envs/dataMine/lib/python3.9/site-packages (from matplotlib->imgaug>=0.4.0->albumentations==0.4.6) (0.11.0)\n",
      "Requirement already satisfied: python-dateutil>=2.7 in /home/thomas/anaconda3/envs/dataMine/lib/python3.9/site-packages (from matplotlib->imgaug>=0.4.0->albumentations==0.4.6) (2.8.2)\n",
      "Requirement already satisfied: fonttools>=4.22.0 in /home/thomas/anaconda3/envs/dataMine/lib/python3.9/site-packages (from matplotlib->imgaug>=0.4.0->albumentations==0.4.6) (4.32.0)\n",
      "Requirement already satisfied: kiwisolver>=1.0.1 in /home/thomas/anaconda3/envs/dataMine/lib/python3.9/site-packages (from matplotlib->imgaug>=0.4.0->albumentations==0.4.6) (1.4.2)\n"
     ]
    }
   ],
   "source": [
    "!pip install albumentations==0.4.6"
   ]
  },
  {
   "cell_type": "code",
   "execution_count": 3,
   "metadata": {
    "id": "KWHR8Os7Zeu5"
   },
   "outputs": [],
   "source": [
    "import torch\n",
    "import albumentations as A\n",
    "from albumentations.pytorch import ToTensorV2\n",
    "\n",
    "DEVICE = \"cuda\" if torch.cuda.is_available() else \"cpu\"\n",
    "TRAIN_DIR = f'{dir}dataset'\n",
    "VAL_DIR = \"data/val\"\n",
    "BATCH_SIZE = 1\n",
    "LEARNING_RATE = 1e-5\n",
    "# Hyperperamiters for generator loss\n",
    "LAMBDA_IDENTITY = 0.0\n",
    "LAMBDA_CYCLE = 10\n",
    "# Hyperperamiters for epoch\n",
    "NUM_WORKERS = 4\n",
    "NUM_EPOCHS = 10\n",
    "\n",
    "# Trasform to make data more useable \n",
    "# We belive this would fall into the Data loader classifcation\n",
    "transforms = A.Compose(\n",
    "    [\n",
    "        A.Resize(width=256, height=256),\n",
    "        A.HorizontalFlip(p=0.5),\n",
    "        A.Normalize(mean=[0.5, 0.5, 0.5], std=[0.5, 0.5, 0.5], max_pixel_value=255),\n",
    "        ToTensorV2(),\n",
    "     ],\n",
    "    additional_targets={\"image0\": \"image\"},\n",
    ")"
   ]
  },
  {
   "cell_type": "code",
   "execution_count": 4,
   "metadata": {
    "id": "IuqhqjuWZpOA"
   },
   "outputs": [],
   "source": [
    "from PIL import Image\n",
    "import os\n",
    "from torch.utils.data import Dataset\n",
    "import numpy as np\n",
    "\n",
    "class PhotoMonetDataset(Dataset):\n",
    "    def __init__(self, root_monet, root_photo, transform=None):\n",
    "        self.root_monet = root_monet\n",
    "        self.root_photo = root_photo\n",
    "        self.transform = transform\n",
    "\n",
    "        self.monet_images = os.listdir(root_monet)\n",
    "        self.photo_images = os.listdir(root_photo)\n",
    "        self.length_dataset = max(len(self.monet_images), len(self.photo_images)) # 1000, 1500\n",
    "        self.monet_len = len(self.monet_images)\n",
    "        self.photo_len = len(self.photo_images)\n",
    "\n",
    "    def __len__(self):\n",
    "        return self.length_dataset\n",
    "\n",
    "    def __getitem__(self, index):\n",
    "        monet_img = self.monet_images[index % self.monet_len]\n",
    "        photo_img = self.photo_images[index % self.photo_len]\n",
    "\n",
    "        monet_path = os.path.join(self.root_monet, monet_img)\n",
    "        photo_path = os.path.join(self.root_photo, photo_img)\n",
    "\n",
    "        monet_img = np.array(Image.open(monet_path).convert(\"RGB\"))\n",
    "        photo_img = np.array(Image.open(photo_path).convert(\"RGB\"))\n",
    "\n",
    "        if self.transform:\n",
    "            augmentations = self.transform(image=monet_img, image0=photo_img)\n",
    "            monet_img = augmentations[\"image\"]\n",
    "            photo_img = augmentations[\"image0\"]\n",
    "\n",
    "        return monet_img, photo_img"
   ]
  },
  {
   "cell_type": "markdown",
   "metadata": {
    "id": "HSuwEjdoZ4vh"
   },
   "source": [
    "##Discriminator\n"
   ]
  },
  {
   "cell_type": "code",
   "execution_count": 5,
   "metadata": {
    "colab": {
     "base_uri": "https://localhost:8080/"
    },
    "id": "CRQrKpY-Z0Qs",
    "outputId": "b6a68f67-0a19-489b-a2c5-fa861742a7f2"
   },
   "outputs": [
    {
     "name": "stdout",
     "output_type": "stream",
     "text": [
      "torch.Size([5, 1, 30, 30])\n"
     ]
    }
   ],
   "source": [
    "import torch\n",
    "import torch.nn as nn\n",
    "\n",
    "class Block(nn.Module):\n",
    "    def __init__(self, in_channels, out_channels, stride):\n",
    "        super().__init__()\n",
    "        self.conv = nn.Sequential(\n",
    "            nn.Conv2d(in_channels, out_channels, 4, stride, 1, bias=True, padding_mode=\"reflect\"),\n",
    "            nn.InstanceNorm2d(out_channels),\n",
    "            nn.LeakyReLU(0.2, inplace=True),\n",
    "        )\n",
    "\n",
    "    def forward(self, x):\n",
    "        return self.conv(x)\n",
    "\n",
    "\n",
    "class Discriminator(nn.Module):\n",
    "    def __init__(self, in_channels=3, features=[64, 128, 256, 512]):\n",
    "        super().__init__()\n",
    "        self.initial = nn.Sequential(\n",
    "            nn.Conv2d(\n",
    "                in_channels,\n",
    "                features[0],\n",
    "                kernel_size=4,\n",
    "                stride=2,\n",
    "                padding=1,\n",
    "                padding_mode=\"reflect\",\n",
    "            ),\n",
    "            nn.LeakyReLU(0.2, inplace=True),\n",
    "        )\n",
    "\n",
    "        layers = []\n",
    "        in_channels = features[0]\n",
    "        for feature in features[1:]:\n",
    "            layers.append(Block(in_channels, feature, stride=1 if feature==features[-1] else 2))\n",
    "            in_channels = feature\n",
    "        layers.append(nn.Conv2d(in_channels, 1, kernel_size=4, stride=1, padding=1, padding_mode=\"reflect\"))\n",
    "        self.model = nn.Sequential(*layers)\n",
    "\n",
    "    def forward(self, x):\n",
    "        x = self.initial(x)\n",
    "        return torch.sigmoid(self.model(x))\n",
    "\n",
    "def test():\n",
    "    x = torch.randn((5, 3, 256, 256))\n",
    "    model = Discriminator(in_channels=3)\n",
    "    preds = model(x)\n",
    "    print(preds.shape)\n",
    "\n",
    "\n",
    "if __name__ == \"__main__\":\n",
    "    test()"
   ]
  },
  {
   "cell_type": "markdown",
   "metadata": {
    "id": "66eNpxs0Z923"
   },
   "source": [
    "##Generator"
   ]
  },
  {
   "cell_type": "code",
   "execution_count": 6,
   "metadata": {
    "colab": {
     "base_uri": "https://localhost:8080/"
    },
    "id": "qOhE8zemZ9RD",
    "outputId": "0a80ece5-892f-4228-94b6-13eb8db596d5"
   },
   "outputs": [
    {
     "name": "stdout",
     "output_type": "stream",
     "text": [
      "torch.Size([2, 3, 256, 256])\n"
     ]
    }
   ],
   "source": [
    "import torch\n",
    "import torch.nn as nn\n",
    "\n",
    "class ConvBlock(nn.Module):\n",
    "    def __init__(self, in_channels, out_channels, down=True, use_act=True, **kwargs):\n",
    "        super().__init__()\n",
    "        self.conv = nn.Sequential(\n",
    "            nn.Conv2d(in_channels, out_channels, padding_mode=\"reflect\", **kwargs)\n",
    "            if down\n",
    "            else nn.ConvTranspose2d(in_channels, out_channels, **kwargs),\n",
    "            nn.InstanceNorm2d(out_channels),\n",
    "            nn.ReLU(inplace=True) if use_act else nn.Identity()\n",
    "        )\n",
    "\n",
    "    def forward(self, x):\n",
    "        return self.conv(x)\n",
    "\n",
    "class ResidualBlock(nn.Module):\n",
    "    def __init__(self, channels):\n",
    "        super().__init__()\n",
    "        self.block = nn.Sequential(\n",
    "            ConvBlock(channels, channels, kernel_size=3, padding=1),\n",
    "            ConvBlock(channels, channels, use_act=False, kernel_size=3, padding=1),\n",
    "        )\n",
    "\n",
    "    def forward(self, x):\n",
    "        return x + self.block(x)\n",
    "\n",
    "class Generator(nn.Module):\n",
    "    def __init__(self, img_channels, num_features = 64, num_residuals=9):\n",
    "        super().__init__()\n",
    "        self.initial = nn.Sequential(\n",
    "            nn.Conv2d(img_channels, num_features, kernel_size=7, stride=1, padding=3, padding_mode=\"reflect\"),\n",
    "            nn.InstanceNorm2d(num_features),\n",
    "            nn.ReLU(inplace=True),\n",
    "        )\n",
    "        self.down_blocks = nn.ModuleList(\n",
    "            [\n",
    "                ConvBlock(num_features, num_features*2, kernel_size=3, stride=2, padding=1),\n",
    "                ConvBlock(num_features*2, num_features*4, kernel_size=3, stride=2, padding=1),\n",
    "            ]\n",
    "        )\n",
    "        self.res_blocks = nn.Sequential(\n",
    "            *[ResidualBlock(num_features*4) for _ in range(num_residuals)]\n",
    "        )\n",
    "        self.up_blocks = nn.ModuleList(\n",
    "            [\n",
    "                ConvBlock(num_features*4, num_features*2, down=False, kernel_size=3, stride=2, padding=1, output_padding=1),\n",
    "                ConvBlock(num_features*2, num_features*1, down=False, kernel_size=3, stride=2, padding=1, output_padding=1),\n",
    "            ]\n",
    "        )\n",
    "\n",
    "        self.last = nn.Conv2d(num_features*1, img_channels, kernel_size=7, stride=1, padding=3, padding_mode=\"reflect\")\n",
    "\n",
    "    def forward(self, x):\n",
    "        x = self.initial(x)\n",
    "        for layer in self.down_blocks:\n",
    "            x = layer(x)\n",
    "        x = self.res_blocks(x)\n",
    "        for layer in self.up_blocks:\n",
    "            x = layer(x)\n",
    "        return torch.tanh(self.last(x))\n",
    "\n",
    "def test():\n",
    "    img_channels = 3\n",
    "    img_size = 256\n",
    "    x = torch.randn((2, img_channels, img_size, img_size))\n",
    "    gen = Generator(img_channels, 9)\n",
    "    print(gen(x).shape)\n",
    "\n",
    "if __name__ == \"__main__\":\n",
    "    test()"
   ]
  },
  {
   "cell_type": "markdown",
   "metadata": {
    "id": "prCVS_pSaiUQ"
   },
   "source": [
    "##Utils"
   ]
  },
  {
   "cell_type": "code",
   "execution_count": 7,
   "metadata": {
    "id": "jddfVrMzaFDw"
   },
   "outputs": [],
   "source": [
    "import random, torch, os, numpy as np\n",
    "import torch.nn as nn\n",
    "import copy\n",
    "\n",
    "def seed_everything(seed=42):\n",
    "    os.environ[\"PYTHONHASHSEED\"] = str(seed)\n",
    "    random.seed(seed)\n",
    "    np.random.seed(seed)\n",
    "    torch.manual_seed(seed)\n",
    "    torch.cuda.manual_seed(seed)\n",
    "    torch.cuda.manual_seed_all(seed)\n",
    "    torch.backends.cudnn.deterministic = True\n",
    "    torch.backends.cudnn.benchmark = False"
   ]
  },
  {
   "cell_type": "code",
   "execution_count": null,
   "metadata": {
    "colab": {
     "base_uri": "https://localhost:8080/"
    },
    "id": "_b4WdaUmdELG",
    "outputId": "6ee43f77-4966-4f3d-e318-45a7d1ab2392"
   },
   "outputs": [
    {
     "name": "stderr",
     "output_type": "stream",
     "text": [
      "/home/thomas/anaconda3/envs/dataMine/lib/python3.9/site-packages/torch/cuda/amp/grad_scaler.py:115: UserWarning: torch.cuda.amp.GradScaler is enabled, but CUDA is not available.  Disabling.\n",
      "  warnings.warn(\"torch.cuda.amp.GradScaler is enabled, but CUDA is not available.  Disabling.\")\n",
      "  0%|                                                                                                                                                                                                                                                    | 0/6978 [00:00<?, ?it/s]/home/thomas/anaconda3/envs/dataMine/lib/python3.9/site-packages/torch/autocast_mode.py:162: UserWarning: User provided device_type of 'cuda', but CUDA is not available. Disabling\n",
      "  warnings.warn('User provided device_type of \\'cuda\\', but CUDA is not available. Disabling')\n",
      "  0%|▎                                                                                                                                                                                                           | 10/6978 [01:28<17:35:48,  9.09s/it, H_fake=0.483, H_real=0.486]"
     ]
    }
   ],
   "source": [
    "import torch\n",
    "# from dataset import PhotomonetDataset\n",
    "import sys\n",
    "from torch.utils.data import DataLoader\n",
    "import torch.nn as nn\n",
    "import torch.optim as optim\n",
    "# import config\n",
    "from tqdm import tqdm\n",
    "from torchvision.utils import save_image\n",
    "# from discriminator_model import Discriminator\n",
    "# from generator_model import Generator\n",
    "\n",
    "def train_fn(disc_H, disc_Z, gen_Z, gen_H, loader, opt_disc, opt_gen, l1, mse, d_scaler, g_scaler):\n",
    "    H_reals = 0\n",
    "    H_fakes = 0\n",
    "    loop = tqdm(loader, leave=True)\n",
    "\n",
    "    for idx, (monet, photo) in enumerate(loop):\n",
    "        monet = monet.to(DEVICE)\n",
    "        photo = photo.to(DEVICE)\n",
    "\n",
    "        # Train Discriminators H and Z\n",
    "        with torch.cuda.amp.autocast():\n",
    "            fake_photo = gen_H(monet)\n",
    "            D_H_real = disc_H(photo)\n",
    "            D_H_fake = disc_H(fake_photo.detach())\n",
    "            H_reals += D_H_real.mean().item()\n",
    "            H_fakes += D_H_fake.mean().item()\n",
    "            D_H_real_loss = mse(D_H_real, torch.ones_like(D_H_real))\n",
    "            D_H_fake_loss = mse(D_H_fake, torch.zeros_like(D_H_fake))\n",
    "            D_H_loss = D_H_real_loss + D_H_fake_loss\n",
    "\n",
    "            fake_monet = gen_Z(photo)\n",
    "            D_Z_real = disc_Z(monet)\n",
    "            D_Z_fake = disc_Z(fake_monet.detach())\n",
    "            D_Z_real_loss = mse(D_Z_real, torch.ones_like(D_Z_real))\n",
    "            D_Z_fake_loss = mse(D_Z_fake, torch.zeros_like(D_Z_fake))\n",
    "            D_Z_loss = D_Z_real_loss + D_Z_fake_loss\n",
    "\n",
    "            # put it togethor\n",
    "            D_loss = (D_H_loss + D_Z_loss)/2\n",
    "\n",
    "        opt_disc.zero_grad()\n",
    "        d_scaler.scale(D_loss).backward()\n",
    "        d_scaler.step(opt_disc)\n",
    "        d_scaler.update()\n",
    "\n",
    "        # Train Generators H and Z\n",
    "        with torch.cuda.amp.autocast():\n",
    "            # adversarial loss for both generators\n",
    "            D_H_fake = disc_H(fake_photo)\n",
    "            D_Z_fake = disc_Z(fake_monet)\n",
    "            loss_G_H = mse(D_H_fake, torch.ones_like(D_H_fake))\n",
    "            loss_G_Z = mse(D_Z_fake, torch.ones_like(D_Z_fake))\n",
    "\n",
    "            # cycle loss\n",
    "            cycle_monet = gen_Z(fake_photo)\n",
    "            cycle_photo = gen_H(fake_monet)\n",
    "            cycle_monet_loss = l1(monet, cycle_monet)\n",
    "            cycle_photo_loss = l1(photo, cycle_photo)\n",
    "\n",
    "            # identity loss (remove these for efficiency if you set lambda_identity=0)\n",
    "            identity_monet = gen_Z(monet)\n",
    "            identity_photo = gen_H(photo)\n",
    "            identity_monet_loss = l1(monet, identity_monet)\n",
    "            identity_photo_loss = l1(photo, identity_photo)\n",
    "\n",
    "            # add all togethor\n",
    "            G_loss = (\n",
    "                loss_G_Z\n",
    "                + loss_G_H\n",
    "                + cycle_monet_loss * LAMBDA_CYCLE\n",
    "                + cycle_photo_loss * LAMBDA_CYCLE\n",
    "                + identity_photo_loss * LAMBDA_IDENTITY\n",
    "                + identity_monet_loss * LAMBDA_IDENTITY\n",
    "            )\n",
    "\n",
    "        opt_gen.zero_grad()\n",
    "        g_scaler.scale(G_loss).backward()\n",
    "        g_scaler.step(opt_gen)\n",
    "        g_scaler.update()\n",
    "\n",
    "        if idx % 200 == 0:\n",
    "            save_image(fake_photo*0.5+0.5, f\"{dir}dataset/saved_images/monet_{idx}.png\")\n",
    "            save_image(fake_monet*0.5+0.5, f\"{dir}dataset/saved_images/photo_{idx}.png\")\n",
    "\n",
    "        loop.set_postfix(H_real=H_reals/(idx+1), H_fake=H_fakes/(idx+1))\n",
    "\n",
    "\n",
    "\n",
    "def main():\n",
    "    disc_H = Discriminator(in_channels=3).to(DEVICE)\n",
    "    disc_Z = Discriminator(in_channels=3).to(DEVICE)\n",
    "    gen_Z = Generator(img_channels=3, num_residuals=9).to(DEVICE)\n",
    "    gen_H = Generator(img_channels=3, num_residuals=9).to(DEVICE)\n",
    "    opt_disc = optim.Adam(\n",
    "        list(disc_H.parameters()) + list(disc_Z.parameters()),\n",
    "        lr=LEARNING_RATE,\n",
    "        betas=(0.5, 0.999),\n",
    "    )\n",
    "\n",
    "    opt_gen = optim.Adam(\n",
    "        list(gen_Z.parameters()) + list(gen_H.parameters()),\n",
    "        lr=LEARNING_RATE,\n",
    "        betas=(0.5, 0.999),\n",
    "    )\n",
    "\n",
    "    L1 = nn.L1Loss()\n",
    "    mse = nn.MSELoss()\n",
    "\n",
    "    dataset = PhotoMonetDataset(\n",
    "        root_photo=TRAIN_DIR+\"/monet\", root_monet=TRAIN_DIR+\"/photo\", transform=transforms\n",
    "    )\n",
    "\n",
    "    loader = DataLoader(\n",
    "        dataset,\n",
    "        batch_size=BATCH_SIZE,\n",
    "        shuffle=True,\n",
    "        num_workers=NUM_WORKERS,\n",
    "        pin_memory=True\n",
    "    )\n",
    "\n",
    "    g_scaler = torch.cuda.amp.GradScaler()\n",
    "    d_scaler = torch.cuda.amp.GradScaler()\n",
    "\n",
    "    for epoch in range(NUM_EPOCHS):\n",
    "        train_fn(disc_H, disc_Z, gen_Z, gen_H, loader, opt_disc, opt_gen, L1, mse, d_scaler, g_scaler)\n",
    "\n",
    "if __name__ == \"__main__\":\n",
    "    main()"
   ]
  }
 ],
 "metadata": {
  "accelerator": "GPU",
  "colab": {
   "collapsed_sections": [],
   "name": "CycleGans with JAX.ipynb",
   "provenance": []
  },
  "kernelspec": {
   "display_name": "Python [conda env:dataMine] *",
   "language": "python",
   "name": "conda-env-dataMine-py"
  },
  "language_info": {
   "codemirror_mode": {
    "name": "ipython",
    "version": 3
   },
   "file_extension": ".py",
   "mimetype": "text/x-python",
   "name": "python",
   "nbconvert_exporter": "python",
   "pygments_lexer": "ipython3",
   "version": "3.9.12"
  }
 },
 "nbformat": 4,
 "nbformat_minor": 1
}
